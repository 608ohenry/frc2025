{
 "cells": [
  {
   "cell_type": "code",
   "execution_count": 1,
   "id": "f9802f3a-e1da-4de4-90b4-2fe53da2610e",
   "metadata": {},
   "outputs": [],
   "source": [
    "import pandas as pd\n",
    "import seaborn as sns\n",
    "import numpy as np\n",
    "import matplotlib.pyplot as plt \n",
    "from io import StringIO"
   ]
  },
  {
   "cell_type": "code",
   "execution_count": 2,
   "id": "d2e6e153-4647-4786-8693-24c60e47cee0",
   "metadata": {},
   "outputs": [],
   "source": [
    "h1_path = 'h1_Employer_Information.csv'\n",
    "h2a_path = 'h2_employer_information.csv'\n",
    "h2b_path = 'h2b_employer_information.csv'\n",
    "\n",
    "#Had to convert all encoding to UTF8 via notepad++\n",
    "def read_tsv(file_path):\n",
    "    with open(file_path, \"r\", encoding=\"utf-8\") as f:\n",
    "        return pd.read_csv(StringIO(f.read()), delimiter=\"\\t\")\n",
    "\n",
    "# Read all files using the function\n",
    "df_h1 = read_tsv(h1_path)\n",
    "df_h2a = read_tsv(h2a_path)\n",
    "df_h2b = read_tsv(h2b_path)\n",
    "\n"
   ]
  },
  {
   "cell_type": "code",
   "execution_count": 3,
   "id": "701eb54b-34db-4927-b1a8-b34e422eb4b0",
   "metadata": {},
   "outputs": [],
   "source": [
    "df_h1 = df_h1.set_index('Fiscal Year   ')\n",
    "df_h1.index.name = 'Fiscal Year'"
   ]
  },
  {
   "cell_type": "code",
   "execution_count": 38,
   "id": "35a00d4d-b5db-4d40-82b9-c0a02ca6ccd2",
   "metadata": {},
   "outputs": [],
   "source": [
    "#df_h1.head()"
   ]
  },
  {
   "cell_type": "code",
   "execution_count": 20,
   "id": "f26224a6-f39b-4d21-b0c3-329ba5de3f55",
   "metadata": {},
   "outputs": [],
   "source": [
    "df_h2a = df_h2a.set_index('Action Fiscal Year')\n",
    "df_h2a.index.name = 'Fiscal Year'"
   ]
  },
  {
   "cell_type": "code",
   "execution_count": 36,
   "id": "a6f0435f-955d-4ec4-b632-77c76a9d8070",
   "metadata": {},
   "outputs": [],
   "source": [
    "#df_h2a.head()"
   ]
  },
  {
   "cell_type": "code",
   "execution_count": 30,
   "id": "69c272cb-c16f-4f86-917e-0d1d75cd47f0",
   "metadata": {},
   "outputs": [
    {
     "name": "stdout",
     "output_type": "stream",
     "text": [
      "Index(['Index()', 'Cap Fiscal Year', 'Cap Type', 'Employer (Petitioner) Name',\n",
      "       'Tax ID', 'Industry (NAICS) Code', 'Occupation (SOC) Code',\n",
      "       'Petitioner City', 'Petitioner State', 'Petitioner Zip Code',\n",
      "       'Work Site State', 'Consular_Processed', 'Hourly Wage',\n",
      "       'ETA Case Number', 'New Employment Approval', 'New Employment Denial',\n",
      "       'Continuation Approval', 'Continuation Denial',\n",
      "       'Change with Same Employer Approval',\n",
      "       'Change with Same Employer Denial', 'New Concurrent Approval',\n",
      "       'New Concurrent Denial', 'Change of Employer Approval',\n",
      "       'Change of Employer Denial', 'Amended Approval', 'Amended Denial'],\n",
      "      dtype='object')\n"
     ]
    }
   ],
   "source": [
    "df_h2b = df_h2b.set_index('Cap Fiscal Year')\n",
    "df_h2b.index.name = 'Fiscal Year'"
   ]
  },
  {
   "cell_type": "code",
   "execution_count": 34,
   "id": "b03ba8ad-b145-43f9-85a9-7fd3d6f99dc3",
   "metadata": {},
   "outputs": [],
   "source": [
    "#df_h2b.head()"
   ]
  },
  {
   "cell_type": "code",
   "execution_count": null,
   "id": "4fde1c59-16bc-4be9-8ad0-c3914e7bf0f5",
   "metadata": {},
   "outputs": [],
   "source": []
  }
 ],
 "metadata": {
  "kernelspec": {
   "display_name": "Python [conda env:base] *",
   "language": "python",
   "name": "conda-base-py"
  },
  "language_info": {
   "codemirror_mode": {
    "name": "ipython",
    "version": 3
   },
   "file_extension": ".py",
   "mimetype": "text/x-python",
   "name": "python",
   "nbconvert_exporter": "python",
   "pygments_lexer": "ipython3",
   "version": "3.12.4"
  }
 },
 "nbformat": 4,
 "nbformat_minor": 5
}
